{
 "cells": [
  {
   "cell_type": "markdown",
   "id": "c7a7779d-58fc-4e84-98c4-0bc9216d456d",
   "metadata": {},
   "source": [
    "# Francesca Bruno\n",
    "# Final Project Part 3\n",
    "# 12/3/2024\n",
    "# Cleaning The Data"
   ]
  },
  {
   "cell_type": "code",
   "execution_count": 21,
   "id": "19ee4cc0-c1a5-4e08-b3dd-4b09a6a81223",
   "metadata": {},
   "outputs": [],
   "source": [
    "import pandas as pd"
   ]
  },
  {
   "cell_type": "code",
   "execution_count": 22,
   "id": "0b364420-b59b-4ef0-94f4-b824990069ac",
   "metadata": {},
   "outputs": [],
   "source": [
    "df = pd.read_csv(\"game_sales_data.csv\", encoding='unicode_escape')"
   ]
  },
  {
   "cell_type": "markdown",
   "id": "c109eece-778b-4d99-963f-d1e740f55924",
   "metadata": {},
   "source": [
    "## The variables I need to answer my review questions are: critic review score, copies shipped/sold, user review score, and year released, so I can remove everything else."
   ]
  },
  {
   "cell_type": "code",
   "execution_count": 24,
   "id": "c623908a-82b0-44f9-98a8-496b52b19aa0",
   "metadata": {},
   "outputs": [
    {
     "data": {
      "text/plain": [
       "Index(['Critic_Score', 'User_Score', 'Total_Shipped', 'Year'], dtype='object')"
      ]
     },
     "execution_count": 24,
     "metadata": {},
     "output_type": "execute_result"
    }
   ],
   "source": [
    "df.drop(['Rank', 'Name', 'Platform', 'Publisher', 'Developer'], axis=1, inplace=True)\n",
    "df.columns"
   ]
  },
  {
   "cell_type": "markdown",
   "id": "11f6a908-1238-46dc-91ff-754063e981a7",
   "metadata": {},
   "source": [
    "### Exploring the data in part 2 showed me that some of the games in the dataset are missing user review scores, critic review scores, or both. Some of my questions only pertain to one score, while others analyze both, but since the overall goal of the analysis is to compare the accuracy/effectiveness of both review types, I will remove any row that is missing a user or critic score. "
   ]
  },
  {
   "cell_type": "code",
   "execution_count": 26,
   "id": "d5619708-e312-49d0-996d-977e5bb51dc9",
   "metadata": {},
   "outputs": [
    {
     "name": "stdout",
     "output_type": "stream",
     "text": [
      "19600\n",
      "2208\n"
     ]
    }
   ],
   "source": [
    "# Before dropping:\n",
    "print(len(df))\n",
    "\n",
    "df.dropna(subset = ['Critic_Score', 'User_Score'], inplace = True)\n",
    "\n",
    "# After dropping:\n",
    "print(len(df))"
   ]
  },
  {
   "cell_type": "markdown",
   "id": "6bca57f1-d3ca-42af-949f-9db6025530d4",
   "metadata": {},
   "source": [
    "## I do not need to change the column names, merge any datasets, split up columns or rows, or remove any outliers, so this is the end of my data cleaning."
   ]
  },
  {
   "cell_type": "code",
   "execution_count": 28,
   "id": "859bdd59-16bf-49e0-a2f5-765eca6dda19",
   "metadata": {},
   "outputs": [],
   "source": [
    "df.to_csv('cleaned_game_sales_data.csv', index = False)"
   ]
  }
 ],
 "metadata": {
  "kernelspec": {
   "display_name": "Python 3 (ipykernel)",
   "language": "python",
   "name": "python3"
  },
  "language_info": {
   "codemirror_mode": {
    "name": "ipython",
    "version": 3
   },
   "file_extension": ".py",
   "mimetype": "text/x-python",
   "name": "python",
   "nbconvert_exporter": "python",
   "pygments_lexer": "ipython3",
   "version": "3.12.3"
  }
 },
 "nbformat": 4,
 "nbformat_minor": 5
}
