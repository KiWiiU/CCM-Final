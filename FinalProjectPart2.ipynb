{
 "cells": [
  {
   "cell_type": "markdown",
   "id": "9664a917-11bd-4450-a1b9-3c60c4af414d",
   "metadata": {},
   "source": [
    "# Francesca Bruno\n",
    "# Final Project Part 2\n",
    "# 11/27/2024\n",
    "# Exploring the Dataset"
   ]
  },
  {
   "cell_type": "code",
   "execution_count": 2,
   "id": "9a1d4c71-7ebe-4087-beb0-8d5804685047",
   "metadata": {},
   "outputs": [],
   "source": [
    "import pandas as pd"
   ]
  },
  {
   "cell_type": "code",
   "execution_count": 3,
   "id": "b1350cf0-fecb-45ae-b7ca-0e146e8788b7",
   "metadata": {},
   "outputs": [],
   "source": [
    "df = pd.read_csv(\"game_sales_data.csv\", encoding='unicode_escape')"
   ]
  },
  {
   "cell_type": "markdown",
   "id": "dce71d18-a178-4057-abe2-66a711287026",
   "metadata": {},
   "source": [
    "## Exploring the dataset"
   ]
  },
  {
   "cell_type": "code",
   "execution_count": 5,
   "id": "952f8423-8dde-4427-afb6-34a8560dbfef",
   "metadata": {},
   "outputs": [
    {
     "data": {
      "text/plain": [
       "Index(['Rank', 'Name', 'Platform', 'Publisher', 'Developer', 'Critic_Score',\n",
       "       'User_Score', 'Total_Shipped', 'Year'],\n",
       "      dtype='object')"
      ]
     },
     "execution_count": 5,
     "metadata": {},
     "output_type": "execute_result"
    }
   ],
   "source": [
    "df.columns"
   ]
  },
  {
   "cell_type": "code",
   "execution_count": 6,
   "id": "31cfb5cd-e793-4707-9f12-bd78a6c33b1f",
   "metadata": {},
   "outputs": [
    {
     "data": {
      "text/html": [
       "<div>\n",
       "<style scoped>\n",
       "    .dataframe tbody tr th:only-of-type {\n",
       "        vertical-align: middle;\n",
       "    }\n",
       "\n",
       "    .dataframe tbody tr th {\n",
       "        vertical-align: top;\n",
       "    }\n",
       "\n",
       "    .dataframe thead th {\n",
       "        text-align: right;\n",
       "    }\n",
       "</style>\n",
       "<table border=\"1\" class=\"dataframe\">\n",
       "  <thead>\n",
       "    <tr style=\"text-align: right;\">\n",
       "      <th></th>\n",
       "      <th>Rank</th>\n",
       "      <th>Name</th>\n",
       "      <th>Platform</th>\n",
       "      <th>Publisher</th>\n",
       "      <th>Developer</th>\n",
       "      <th>Critic_Score</th>\n",
       "      <th>User_Score</th>\n",
       "      <th>Total_Shipped</th>\n",
       "      <th>Year</th>\n",
       "    </tr>\n",
       "  </thead>\n",
       "  <tbody>\n",
       "    <tr>\n",
       "      <th>19595</th>\n",
       "      <td>19594</td>\n",
       "      <td>FirePower for Microsoft Combat Flight Simulator 3</td>\n",
       "      <td>PC</td>\n",
       "      <td>GMX Media</td>\n",
       "      <td>Shockwave Productions</td>\n",
       "      <td>NaN</td>\n",
       "      <td>NaN</td>\n",
       "      <td>0.01</td>\n",
       "      <td>2004</td>\n",
       "    </tr>\n",
       "    <tr>\n",
       "      <th>19596</th>\n",
       "      <td>19595</td>\n",
       "      <td>Tom Clancy's Splinter Cell</td>\n",
       "      <td>PC</td>\n",
       "      <td>Ubisoft</td>\n",
       "      <td>Ubisoft</td>\n",
       "      <td>9.4</td>\n",
       "      <td>NaN</td>\n",
       "      <td>0.01</td>\n",
       "      <td>2003</td>\n",
       "    </tr>\n",
       "    <tr>\n",
       "      <th>19597</th>\n",
       "      <td>19596</td>\n",
       "      <td>Ashita no Joe 2: The Anime Super Remix</td>\n",
       "      <td>PS2</td>\n",
       "      <td>Capcom</td>\n",
       "      <td>Capcom</td>\n",
       "      <td>NaN</td>\n",
       "      <td>NaN</td>\n",
       "      <td>0.01</td>\n",
       "      <td>2002</td>\n",
       "    </tr>\n",
       "    <tr>\n",
       "      <th>19598</th>\n",
       "      <td>19597</td>\n",
       "      <td>Tokyo Yamanote Boys for V: Main Disc</td>\n",
       "      <td>PSV</td>\n",
       "      <td>Rejet</td>\n",
       "      <td>Rejet</td>\n",
       "      <td>NaN</td>\n",
       "      <td>NaN</td>\n",
       "      <td>0.01</td>\n",
       "      <td>2017</td>\n",
       "    </tr>\n",
       "    <tr>\n",
       "      <th>19599</th>\n",
       "      <td>19598</td>\n",
       "      <td>NadePro!! Kisama no Seiyuu Yatte Miro!</td>\n",
       "      <td>PS2</td>\n",
       "      <td>GungHo</td>\n",
       "      <td>GungHo Works</td>\n",
       "      <td>NaN</td>\n",
       "      <td>NaN</td>\n",
       "      <td>0.01</td>\n",
       "      <td>2009</td>\n",
       "    </tr>\n",
       "  </tbody>\n",
       "</table>\n",
       "</div>"
      ],
      "text/plain": [
       "        Rank                                               Name Platform  \\\n",
       "19595  19594  FirePower for Microsoft Combat Flight Simulator 3       PC   \n",
       "19596  19595                         Tom Clancy's Splinter Cell       PC   \n",
       "19597  19596             Ashita no Joe 2: The Anime Super Remix      PS2   \n",
       "19598  19597               Tokyo Yamanote Boys for V: Main Disc      PSV   \n",
       "19599  19598             NadePro!! Kisama no Seiyuu Yatte Miro!      PS2   \n",
       "\n",
       "       Publisher              Developer  Critic_Score  User_Score  \\\n",
       "19595  GMX Media  Shockwave Productions           NaN         NaN   \n",
       "19596    Ubisoft                Ubisoft           9.4         NaN   \n",
       "19597     Capcom                 Capcom           NaN         NaN   \n",
       "19598      Rejet                  Rejet           NaN         NaN   \n",
       "19599     GungHo           GungHo Works           NaN         NaN   \n",
       "\n",
       "       Total_Shipped  Year  \n",
       "19595           0.01  2004  \n",
       "19596           0.01  2003  \n",
       "19597           0.01  2002  \n",
       "19598           0.01  2017  \n",
       "19599           0.01  2009  "
      ]
     },
     "execution_count": 6,
     "metadata": {},
     "output_type": "execute_result"
    }
   ],
   "source": [
    "df.tail()"
   ]
  },
  {
   "cell_type": "code",
   "execution_count": 7,
   "id": "724278f2-1547-4953-9186-ea86bd2acb0d",
   "metadata": {},
   "outputs": [
    {
     "data": {
      "text/html": [
       "<div>\n",
       "<style scoped>\n",
       "    .dataframe tbody tr th:only-of-type {\n",
       "        vertical-align: middle;\n",
       "    }\n",
       "\n",
       "    .dataframe tbody tr th {\n",
       "        vertical-align: top;\n",
       "    }\n",
       "\n",
       "    .dataframe thead th {\n",
       "        text-align: right;\n",
       "    }\n",
       "</style>\n",
       "<table border=\"1\" class=\"dataframe\">\n",
       "  <thead>\n",
       "    <tr style=\"text-align: right;\">\n",
       "      <th></th>\n",
       "      <th>Rank</th>\n",
       "      <th>Name</th>\n",
       "      <th>Platform</th>\n",
       "      <th>Publisher</th>\n",
       "      <th>Developer</th>\n",
       "      <th>Critic_Score</th>\n",
       "      <th>User_Score</th>\n",
       "      <th>Total_Shipped</th>\n",
       "      <th>Year</th>\n",
       "    </tr>\n",
       "  </thead>\n",
       "  <tbody>\n",
       "    <tr>\n",
       "      <th>0</th>\n",
       "      <td>1</td>\n",
       "      <td>Wii Sports</td>\n",
       "      <td>Wii</td>\n",
       "      <td>Nintendo</td>\n",
       "      <td>Nintendo EAD</td>\n",
       "      <td>7.7</td>\n",
       "      <td>8.0</td>\n",
       "      <td>82.90</td>\n",
       "      <td>2006</td>\n",
       "    </tr>\n",
       "    <tr>\n",
       "      <th>1</th>\n",
       "      <td>2</td>\n",
       "      <td>Super Mario Bros.</td>\n",
       "      <td>NES</td>\n",
       "      <td>Nintendo</td>\n",
       "      <td>Nintendo EAD</td>\n",
       "      <td>10.0</td>\n",
       "      <td>8.2</td>\n",
       "      <td>40.24</td>\n",
       "      <td>1985</td>\n",
       "    </tr>\n",
       "    <tr>\n",
       "      <th>2</th>\n",
       "      <td>3</td>\n",
       "      <td>Counter-Strike: Global Offensive</td>\n",
       "      <td>PC</td>\n",
       "      <td>Valve</td>\n",
       "      <td>Valve Corporation</td>\n",
       "      <td>8.0</td>\n",
       "      <td>7.5</td>\n",
       "      <td>40.00</td>\n",
       "      <td>2012</td>\n",
       "    </tr>\n",
       "    <tr>\n",
       "      <th>3</th>\n",
       "      <td>4</td>\n",
       "      <td>Mario Kart Wii</td>\n",
       "      <td>Wii</td>\n",
       "      <td>Nintendo</td>\n",
       "      <td>Nintendo EAD</td>\n",
       "      <td>8.2</td>\n",
       "      <td>9.1</td>\n",
       "      <td>37.32</td>\n",
       "      <td>2008</td>\n",
       "    </tr>\n",
       "    <tr>\n",
       "      <th>4</th>\n",
       "      <td>5</td>\n",
       "      <td>PLAYERUNKNOWN'S BATTLEGROUNDS</td>\n",
       "      <td>PC</td>\n",
       "      <td>PUBG Corporation</td>\n",
       "      <td>PUBG Corporation</td>\n",
       "      <td>8.6</td>\n",
       "      <td>4.7</td>\n",
       "      <td>36.60</td>\n",
       "      <td>2017</td>\n",
       "    </tr>\n",
       "  </tbody>\n",
       "</table>\n",
       "</div>"
      ],
      "text/plain": [
       "   Rank                              Name Platform         Publisher  \\\n",
       "0     1                        Wii Sports      Wii          Nintendo   \n",
       "1     2                 Super Mario Bros.      NES          Nintendo   \n",
       "2     3  Counter-Strike: Global Offensive       PC             Valve   \n",
       "3     4                    Mario Kart Wii      Wii          Nintendo   \n",
       "4     5     PLAYERUNKNOWN'S BATTLEGROUNDS       PC  PUBG Corporation   \n",
       "\n",
       "           Developer  Critic_Score  User_Score  Total_Shipped  Year  \n",
       "0       Nintendo EAD           7.7         8.0          82.90  2006  \n",
       "1       Nintendo EAD          10.0         8.2          40.24  1985  \n",
       "2  Valve Corporation           8.0         7.5          40.00  2012  \n",
       "3       Nintendo EAD           8.2         9.1          37.32  2008  \n",
       "4   PUBG Corporation           8.6         4.7          36.60  2017  "
      ]
     },
     "execution_count": 7,
     "metadata": {},
     "output_type": "execute_result"
    }
   ],
   "source": [
    "df.head()"
   ]
  },
  {
   "cell_type": "code",
   "execution_count": 8,
   "id": "04ed4660-5b7d-449b-8d55-9e32a49074e7",
   "metadata": {},
   "outputs": [
    {
     "name": "stdout",
     "output_type": "stream",
     "text": [
      "<class 'pandas.core.frame.DataFrame'>\n",
      "RangeIndex: 19600 entries, 0 to 19599\n",
      "Data columns (total 9 columns):\n",
      " #   Column         Non-Null Count  Dtype  \n",
      "---  ------         --------------  -----  \n",
      " 0   Rank           19600 non-null  int64  \n",
      " 1   Name           19600 non-null  object \n",
      " 2   Platform       19600 non-null  object \n",
      " 3   Publisher      19600 non-null  object \n",
      " 4   Developer      19598 non-null  object \n",
      " 5   Critic_Score   9969 non-null   float64\n",
      " 6   User_Score     2223 non-null   float64\n",
      " 7   Total_Shipped  19600 non-null  float64\n",
      " 8   Year           19600 non-null  int64  \n",
      "dtypes: float64(3), int64(2), object(4)\n",
      "memory usage: 1.3+ MB\n"
     ]
    }
   ],
   "source": [
    "df.info()"
   ]
  },
  {
   "cell_type": "code",
   "execution_count": 9,
   "id": "7e182a1c-3017-4835-b70d-562b509cd8c5",
   "metadata": {},
   "outputs": [
    {
     "data": {
      "text/plain": [
       "Rank               int64\n",
       "Name              object\n",
       "Platform          object\n",
       "Publisher         object\n",
       "Developer         object\n",
       "Critic_Score     float64\n",
       "User_Score       float64\n",
       "Total_Shipped    float64\n",
       "Year               int64\n",
       "dtype: object"
      ]
     },
     "execution_count": 9,
     "metadata": {},
     "output_type": "execute_result"
    }
   ],
   "source": [
    "df.dtypes"
   ]
  },
  {
   "cell_type": "code",
   "execution_count": 10,
   "id": "ee31af1d-33d3-4f61-9669-1116cea07b4e",
   "metadata": {},
   "outputs": [
    {
     "data": {
      "text/plain": [
       "(19600, 9)"
      ]
     },
     "execution_count": 10,
     "metadata": {},
     "output_type": "execute_result"
    }
   ],
   "source": [
    "df.shape"
   ]
  },
  {
   "cell_type": "code",
   "execution_count": 11,
   "id": "bb50e480-0fc1-4001-83db-cedc54d0193f",
   "metadata": {},
   "outputs": [
    {
     "data": {
      "text/html": [
       "<div>\n",
       "<style scoped>\n",
       "    .dataframe tbody tr th:only-of-type {\n",
       "        vertical-align: middle;\n",
       "    }\n",
       "\n",
       "    .dataframe tbody tr th {\n",
       "        vertical-align: top;\n",
       "    }\n",
       "\n",
       "    .dataframe thead th {\n",
       "        text-align: right;\n",
       "    }\n",
       "</style>\n",
       "<table border=\"1\" class=\"dataframe\">\n",
       "  <thead>\n",
       "    <tr style=\"text-align: right;\">\n",
       "      <th></th>\n",
       "      <th>Rank</th>\n",
       "      <th>Critic_Score</th>\n",
       "      <th>User_Score</th>\n",
       "      <th>Total_Shipped</th>\n",
       "      <th>Year</th>\n",
       "    </tr>\n",
       "  </thead>\n",
       "  <tbody>\n",
       "    <tr>\n",
       "      <th>count</th>\n",
       "      <td>19600.000000</td>\n",
       "      <td>9969.000000</td>\n",
       "      <td>2223.000000</td>\n",
       "      <td>19600.000000</td>\n",
       "      <td>19600.000000</td>\n",
       "    </tr>\n",
       "    <tr>\n",
       "      <th>mean</th>\n",
       "      <td>9798.539133</td>\n",
       "      <td>7.034848</td>\n",
       "      <td>6.994872</td>\n",
       "      <td>0.551123</td>\n",
       "      <td>2007.789949</td>\n",
       "    </tr>\n",
       "    <tr>\n",
       "      <th>std</th>\n",
       "      <td>5658.110539</td>\n",
       "      <td>1.558968</td>\n",
       "      <td>1.517038</td>\n",
       "      <td>1.671466</td>\n",
       "      <td>6.326169</td>\n",
       "    </tr>\n",
       "    <tr>\n",
       "      <th>min</th>\n",
       "      <td>1.000000</td>\n",
       "      <td>0.800000</td>\n",
       "      <td>1.000000</td>\n",
       "      <td>0.010000</td>\n",
       "      <td>1977.000000</td>\n",
       "    </tr>\n",
       "    <tr>\n",
       "      <th>25%</th>\n",
       "      <td>4898.750000</td>\n",
       "      <td>6.100000</td>\n",
       "      <td>6.300000</td>\n",
       "      <td>0.050000</td>\n",
       "      <td>2004.000000</td>\n",
       "    </tr>\n",
       "    <tr>\n",
       "      <th>50%</th>\n",
       "      <td>9798.500000</td>\n",
       "      <td>7.300000</td>\n",
       "      <td>7.200000</td>\n",
       "      <td>0.160000</td>\n",
       "      <td>2008.000000</td>\n",
       "    </tr>\n",
       "    <tr>\n",
       "      <th>75%</th>\n",
       "      <td>14698.250000</td>\n",
       "      <td>8.200000</td>\n",
       "      <td>8.000000</td>\n",
       "      <td>0.460000</td>\n",
       "      <td>2012.000000</td>\n",
       "    </tr>\n",
       "    <tr>\n",
       "      <th>max</th>\n",
       "      <td>19598.000000</td>\n",
       "      <td>10.000000</td>\n",
       "      <td>10.000000</td>\n",
       "      <td>82.900000</td>\n",
       "      <td>2020.000000</td>\n",
       "    </tr>\n",
       "  </tbody>\n",
       "</table>\n",
       "</div>"
      ],
      "text/plain": [
       "               Rank  Critic_Score   User_Score  Total_Shipped          Year\n",
       "count  19600.000000   9969.000000  2223.000000   19600.000000  19600.000000\n",
       "mean    9798.539133      7.034848     6.994872       0.551123   2007.789949\n",
       "std     5658.110539      1.558968     1.517038       1.671466      6.326169\n",
       "min        1.000000      0.800000     1.000000       0.010000   1977.000000\n",
       "25%     4898.750000      6.100000     6.300000       0.050000   2004.000000\n",
       "50%     9798.500000      7.300000     7.200000       0.160000   2008.000000\n",
       "75%    14698.250000      8.200000     8.000000       0.460000   2012.000000\n",
       "max    19598.000000     10.000000    10.000000      82.900000   2020.000000"
      ]
     },
     "execution_count": 11,
     "metadata": {},
     "output_type": "execute_result"
    }
   ],
   "source": [
    "df.describe()"
   ]
  },
  {
   "cell_type": "code",
   "execution_count": 12,
   "id": "57f8542a-f891-428b-b2c3-5dde69aba3a5",
   "metadata": {},
   "outputs": [
    {
     "data": {
      "text/html": [
       "<div>\n",
       "<style scoped>\n",
       "    .dataframe tbody tr th:only-of-type {\n",
       "        vertical-align: middle;\n",
       "    }\n",
       "\n",
       "    .dataframe tbody tr th {\n",
       "        vertical-align: top;\n",
       "    }\n",
       "\n",
       "    .dataframe thead th {\n",
       "        text-align: right;\n",
       "    }\n",
       "</style>\n",
       "<table border=\"1\" class=\"dataframe\">\n",
       "  <thead>\n",
       "    <tr style=\"text-align: right;\">\n",
       "      <th></th>\n",
       "      <th>Rank</th>\n",
       "      <th>Name</th>\n",
       "      <th>Platform</th>\n",
       "      <th>Publisher</th>\n",
       "      <th>Developer</th>\n",
       "      <th>Critic_Score</th>\n",
       "      <th>User_Score</th>\n",
       "      <th>Total_Shipped</th>\n",
       "      <th>Year</th>\n",
       "    </tr>\n",
       "  </thead>\n",
       "  <tbody>\n",
       "    <tr>\n",
       "      <th>6790</th>\n",
       "      <td>6789</td>\n",
       "      <td>Harvest Moon: Magical Melody</td>\n",
       "      <td>Wii</td>\n",
       "      <td>Natsume</td>\n",
       "      <td>Marvelous Interactive</td>\n",
       "      <td>6.3</td>\n",
       "      <td>NaN</td>\n",
       "      <td>0.29</td>\n",
       "      <td>2009</td>\n",
       "    </tr>\n",
       "  </tbody>\n",
       "</table>\n",
       "</div>"
      ],
      "text/plain": [
       "      Rank                          Name Platform Publisher  \\\n",
       "6790  6789  Harvest Moon: Magical Melody      Wii   Natsume   \n",
       "\n",
       "                  Developer  Critic_Score  User_Score  Total_Shipped  Year  \n",
       "6790  Marvelous Interactive           6.3         NaN           0.29  2009  "
      ]
     },
     "execution_count": 12,
     "metadata": {},
     "output_type": "execute_result"
    }
   ],
   "source": [
    "df.sample()"
   ]
  }
 ],
 "metadata": {
  "kernelspec": {
   "display_name": "Python 3 (ipykernel)",
   "language": "python",
   "name": "python3"
  },
  "language_info": {
   "codemirror_mode": {
    "name": "ipython",
    "version": 3
   },
   "file_extension": ".py",
   "mimetype": "text/x-python",
   "name": "python",
   "nbconvert_exporter": "python",
   "pygments_lexer": "ipython3",
   "version": "3.12.3"
  }
 },
 "nbformat": 4,
 "nbformat_minor": 5
}
